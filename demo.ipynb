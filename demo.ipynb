{
 "cells": [
  {
   "cell_type": "markdown",
   "metadata": {},
   "source": [
    "# Prototype-based Machine Learning on Distance Data\n",
    "\n",
    "In this small demo, we show how prototype-based machine learning on distance data works.\n",
    "Assume, for example, that you have a data set of strings, which you would like to cluster."
   ]
  },
  {
   "cell_type": "code",
   "execution_count": 1,
   "metadata": {},
   "outputs": [],
   "source": [
    "X = ['ctctagag', 'cctcggag', 'tcctagga', 'tcttagaa', 'ggagcctc', 'gagactct', 'agagtctc', 'aagattct']"
   ]
  },
  {
   "cell_type": "markdown",
   "metadata": {},
   "source": [
    "Such a data set does not have a straightforward vectorial representation. However, it is pretty easy to describe it in terms of pairwise _distances_, namely the [Levenshtein distance](https://en.wikipedia.org/wiki/Levenshtein_distance)."
   ]
  },
  {
   "cell_type": "code",
   "execution_count": 2,
   "metadata": {},
   "outputs": [],
   "source": [
    "import numpy as np\n",
    "\n",
    "# define the levenshtein distance\n",
    "def levenshtein(x, y):\n",
    "    m = len(x)\n",
    "    n = len(y)\n",
    "    Delta = np.zeros((m+1, n+1), dtype=int)\n",
    "    for i in range(m):\n",
    "        Delta[i+1, 0] = Delta[i, 0] + 1\n",
    "    for j in range(n):\n",
    "        Delta[0, j+1] = Delta[0, j] + 1\n",
    "    for i in range(m):\n",
    "        for j in range(n):\n",
    "            delta_ij = 0 if x[i] == y[j] else 1\n",
    "            Delta[i+1, j+1] = np.min([delta_ij + Delta[i,j], 1 + Delta[i+1, j], 1 + Delta[i, j+1]])\n",
    "    return Delta[m][n]\n",
    "\n",
    "# compute the pairwise Levenshtein distance between all strings\n",
    "D = np.zeros((len(X), len(X)))\n",
    "for k in range(len(X)):\n",
    "    x = X[k]\n",
    "    for l in range(k+1, len(X)):\n",
    "        y = X[l]\n",
    "        # compute the Levenshtein distance between x and y\n",
    "        # and store it symmetrically\n",
    "        D[k, l] = levenshtein(x, y)\n",
    "        D[l, k] = D[k, l]"
   ]
  },
  {
   "cell_type": "markdown",
   "metadata": {},
   "source": [
    "Now that we have computed a distance matrix D, we can cluster this data easily using _relational neural gas_ as follows.\n",
    "We only need to pre-define the number of clusters $K$ we expect, which are two in this case."
   ]
  },
  {
   "cell_type": "code",
   "execution_count": 3,
   "metadata": {},
   "outputs": [],
   "source": [
    "from proto_dist_ml.rng import RNG\n",
    "rng = RNG(K = 2)\n",
    "rng = rng.fit(D)"
   ]
  },
  {
   "cell_type": "markdown",
   "metadata": {},
   "source": [
    "Let's see which clusters the model predicts on our data:"
   ]
  },
  {
   "cell_type": "code",
   "execution_count": 4,
   "metadata": {},
   "outputs": [
    {
     "name": "stdout",
     "output_type": "stream",
     "text": [
      "[0 0 0 0 1 1 1 1]\n"
     ]
    }
   ],
   "source": [
    "print(rng.predict(D))"
   ]
  },
  {
   "cell_type": "markdown",
   "metadata": {},
   "source": [
    "In other words, the first four strings belong to one cluster, the latter four strings to the other cluster.\n",
    "\n",
    "We can even make cluster predictions for new data, if we compute the distances to all training data."
   ]
  },
  {
   "cell_type": "code",
   "execution_count": 5,
   "metadata": {},
   "outputs": [
    {
     "name": "stdout",
     "output_type": "stream",
     "text": [
      "[0 1]\n"
     ]
    }
   ],
   "source": [
    "X_new = ['ccctgagg', 'aggatcct']\n",
    "\n",
    "D_new = np.zeros((len(X_new), len(X)))\n",
    "for k in range(len(X_new)):\n",
    "    x = X_new[k]\n",
    "    for l in range(len(X)):\n",
    "        y = X[l]\n",
    "        D_new[k, l] = levenshtein(x, y)\n",
    "\n",
    "print(rng.predict(D_new))"
   ]
  },
  {
   "cell_type": "markdown",
   "metadata": {},
   "source": [
    "In other words, the first new string belongs to the first cluster, the second new string to the second."
   ]
  },
  {
   "cell_type": "markdown",
   "metadata": {},
   "source": [
    "## Classification\n",
    "\n",
    "In our example case, the pattern in the data is quite easy to spot: The first cluster consists of strings which have 'c' and 't' letters in front and 'a' and 'g' letters in the back, while the other cluster consists of strings where this pattern is inverted. Now that we spotted this rule, we can _assign_ class labels to our strings and train a classifier instead of a clustering model. In this case, we use a RGLVQ classifier."
   ]
  },
  {
   "cell_type": "code",
   "execution_count": 6,
   "metadata": {},
   "outputs": [
    {
     "name": "stdout",
     "output_type": "stream",
     "text": [
      "Our RGLVQ classifier has an accuracy of 100% on the training data\n"
     ]
    }
   ],
   "source": [
    "# set up the 'true' class labels\n",
    "y = np.array([0, 0, 0, 0, 1, 1, 1, 1])\n",
    "\n",
    "# set up an RGLVQ model with one prototype per class\n",
    "from proto_dist_ml.rglvq import RGLVQ\n",
    "rglvq = RGLVQ(K = 1)\n",
    "# train it\n",
    "rglvq = rglvq.fit(D, y)\n",
    "# check the classification accuracy\n",
    "print('Our RGLVQ classifier has an accuracy of %g%% on the training data' % (rglvq.score(D, y) * 100))"
   ]
  },
  {
   "cell_type": "markdown",
   "metadata": {},
   "source": [
    "Let's check how our model generalizes to our new data."
   ]
  },
  {
   "cell_type": "code",
   "execution_count": 7,
   "metadata": {},
   "outputs": [
    {
     "name": "stdout",
     "output_type": "stream",
     "text": [
      "Our RGLVQ classifier has an accuracy of 100% on the test data\n"
     ]
    }
   ],
   "source": [
    "# set up 'true' class labels\n",
    "y_new = np.array([0, 1])\n",
    "print('Our RGLVQ classifier has an accuracy of %g%% on the test data' % (rglvq.score(D_new, y_new) * 100))"
   ]
  },
  {
   "cell_type": "markdown",
   "metadata": {},
   "source": [
    "### Median Classification\n",
    "\n",
    "A remaining drawback of RGLVQ is that we still need to compute the distance of new data to _all_ our training data, which can become expensive in application. Further, it is difficult to interpret our prototypes just based on their convex coefficients. A remedy for both issues is offered by _median_ classification, where each prototype is set to exactly one data point. We can train a median GLVQ model as follows."
   ]
  },
  {
   "cell_type": "code",
   "execution_count": 8,
   "metadata": {},
   "outputs": [
    {
     "name": "stdout",
     "output_type": "stream",
     "text": [
      "Our MGLVQ classifier has an accuracy of 100% on the training data\n"
     ]
    }
   ],
   "source": [
    "# set up a MGLVQ model with one prototype per class\n",
    "from proto_dist_ml.mglvq import MGLVQ\n",
    "mglvq = MGLVQ(K = 1)\n",
    "# train it\n",
    "mglvq = mglvq.fit(D, y)\n",
    "# check the classification accuracy\n",
    "print('Our MGLVQ classifier has an accuracy of %g%% on the training data' % (mglvq.score(D, y) * 100))"
   ]
  },
  {
   "cell_type": "markdown",
   "metadata": {},
   "source": [
    "Let's have a look at our prototypes:"
   ]
  },
  {
   "cell_type": "code",
   "execution_count": 9,
   "metadata": {},
   "outputs": [
    {
     "name": "stdout",
     "output_type": "stream",
     "text": [
      "Prototype for class 0: tcctagga\n",
      "Prototype for class 1: gagactct\n"
     ]
    }
   ],
   "source": [
    "print('Prototype for class 0: %s' % X[mglvq._w[0]])\n",
    "print('Prototype for class 1: %s' % X[mglvq._w[1]])"
   ]
  },
  {
   "cell_type": "markdown",
   "metadata": {},
   "source": [
    "To classify new data, we only need to compute the distance to our prototypes now, which are just two points instead of eight."
   ]
  },
  {
   "cell_type": "code",
   "execution_count": 10,
   "metadata": {},
   "outputs": [
    {
     "name": "stdout",
     "output_type": "stream",
     "text": [
      "Our MGLVQ classifier has an accuracy of 100% on the test data\n"
     ]
    }
   ],
   "source": [
    "D_new_small = D_new[:, mglvq._w]\n",
    "print('Our MGLVQ classifier has an accuracy of %g%% on the test data' % (mglvq.score(D_new_small, y_new) * 100))"
   ]
  }
 ],
 "metadata": {
  "kernelspec": {
   "display_name": "Python 3",
   "language": "python",
   "name": "python3"
  },
  "language_info": {
   "codemirror_mode": {
    "name": "ipython",
    "version": 3
   },
   "file_extension": ".py",
   "mimetype": "text/x-python",
   "name": "python",
   "nbconvert_exporter": "python",
   "pygments_lexer": "ipython3",
   "version": "3.7.3"
  }
 },
 "nbformat": 4,
 "nbformat_minor": 2
}
